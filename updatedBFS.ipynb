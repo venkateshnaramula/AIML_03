{
 "cells": [
  {
   "cell_type": "code",
   "execution_count": 4,
   "metadata": {},
   "outputs": [
    {
     "name": "stdout",
     "output_type": "stream",
     "text": [
      "Goal reached!\n"
     ]
    }
   ],
   "source": [
    "from queue import PriorityQueue\n",
    "def best_first_search(graph, start, goal, heuristic):\n",
    "    queue = PriorityQueue()\n",
    "    queue.put((heuristic[start], start))  # Enqueue the start node with its heuristic value\n",
    "    visited = set()  # Set to keep track of visited nodes\n",
    "    \n",
    "    while not queue.empty():\n",
    "        _, current = queue.get()  # Dequeue the node with the lowest priority\n",
    "        \n",
    "        if current == goal:\n",
    "            return True  # Solution found\n",
    "        \n",
    "        visited.add(current)  # Mark the current node as visited\n",
    "        \n",
    "        for neighbor in graph[current]:\n",
    "            if neighbor not in visited:\n",
    "                priority = heuristic[neighbor]  # Calculate the priority (heuristic value)\n",
    "                queue.put((priority, neighbor))  # Enqueue the neighbor with its priority\n",
    "        \n",
    "    return False  # No solution found\n",
    "# Example graph represented as an adjacency list\n",
    "graph = {\n",
    "    'A': ['B', 'C'],\n",
    "    'B': ['D', 'E'],\n",
    "    'C': ['F'],\n",
    "    'D': [],\n",
    "    'E': ['G'],\n",
    "    'F': [],\n",
    "    'G': []\n",
    "}\n",
    "# Heuristic values for each node\n",
    "heuristic = {\n",
    "    'A': 10,\n",
    "    'B': 5,\n",
    "    'C': 8,\n",
    "    'D': 4,\n",
    "    'E': 3,\n",
    "    'F': 2,\n",
    "    'G': 6\n",
    "}\n",
    "start_node = 'A'\n",
    "goal_node = 'G'\n",
    "# Perform Best-First Search\n",
    "result = best_first_search(graph, start_node, goal_node, heuristic)\n",
    "# Print the result\n",
    "if result:\n",
    "    print(\"Goal reached!\")\n",
    "else:\n",
    "    print(\"No solution found.\")\n"
   ]
  }
 ],
 "metadata": {
  "kernelspec": {
   "display_name": "Python 3",
   "language": "python",
   "name": "python3"
  },
  "language_info": {
   "codemirror_mode": {
    "name": "ipython",
    "version": 3
   },
   "file_extension": ".py",
   "mimetype": "text/x-python",
   "name": "python",
   "nbconvert_exporter": "python",
   "pygments_lexer": "ipython3",
   "version": "3.10.13"
  }
 },
 "nbformat": 4,
 "nbformat_minor": 2
}
